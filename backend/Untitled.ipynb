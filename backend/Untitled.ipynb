{
 "cells": [
  {
   "cell_type": "code",
   "execution_count": 1,
   "id": "ae106154-8c3a-4097-9614-6bcfebbfef4d",
   "metadata": {},
   "outputs": [],
   "source": [
    "import pandas as pd"
   ]
  },
  {
   "cell_type": "code",
   "execution_count": 2,
   "id": "579a1271-87b7-4be5-a647-12878b07137c",
   "metadata": {},
   "outputs": [],
   "source": [
    "df = pd.read_csv('clientes_banco.csv')"
   ]
  },
  {
   "cell_type": "code",
   "execution_count": 3,
   "id": "5b49c291-3e7f-43b1-9b0c-9915590ded15",
   "metadata": {},
   "outputs": [],
   "source": [
    "df = df.drop_duplicates()"
   ]
  },
  {
   "cell_type": "code",
   "execution_count": 4,
   "id": "2de43ec6-7ef5-435c-abf0-55e8d8ec3cfd",
   "metadata": {},
   "outputs": [],
   "source": [
    "df = df.dropna(subset=['Activo'])"
   ]
  },
  {
   "cell_type": "code",
   "execution_count": 5,
   "id": "f821b4e6-f290-4d9d-950d-b7cfe9037269",
   "metadata": {},
   "outputs": [],
   "source": [
    "df = df.dropna(subset=['Saldo'])"
   ]
  },
  {
   "cell_type": "code",
   "execution_count": 7,
   "id": "99b8e713-914e-4b9e-aa58-b26f47e25bbe",
   "metadata": {},
   "outputs": [],
   "source": [
    "df['Edad'] = df['Edad'].fillna(df['Edad'].median())"
   ]
  },
  {
   "cell_type": "code",
   "execution_count": 9,
   "id": "7a533fc1-0d2a-43b6-8b9d-34c304e46e18",
   "metadata": {},
   "outputs": [],
   "source": [
    "df['Genero'] = df['Genero'].fillna(df['Genero'].mode()[0])"
   ]
  },
  {
   "cell_type": "code",
   "execution_count": 10,
   "id": "1191d08f-a954-4114-8a05-b67659876ea6",
   "metadata": {},
   "outputs": [],
   "source": [
    "df['Nivel_de_Satisfaccion'] = df['Nivel_de_Satisfaccion'].fillna(df['Nivel_de_Satisfaccion'].median())"
   ]
  },
  {
   "cell_type": "code",
   "execution_count": 11,
   "id": "60c02bff-59f5-429f-899e-268220cf3f59",
   "metadata": {},
   "outputs": [
    {
     "name": "stdout",
     "output_type": "stream",
     "text": [
      "Cliente_ID               0\n",
      "Edad                     0\n",
      "Genero                   0\n",
      "Saldo                    0\n",
      "Activo                   0\n",
      "Nivel_de_Satisfaccion    0\n",
      "dtype: int64\n"
     ]
    }
   ],
   "source": [
    "print(df.isnull().sum())"
   ]
  },
  {
   "cell_type": "code",
   "execution_count": 12,
   "id": "1c901b41-09d9-49b7-9edc-588b559743ca",
   "metadata": {},
   "outputs": [],
   "source": [
    "df['Edad'] = df['Edad'].astype(int)"
   ]
  },
  {
   "cell_type": "code",
   "execution_count": 13,
   "id": "f2e67830-25c2-438c-b1d9-3f80ee5b6c60",
   "metadata": {},
   "outputs": [],
   "source": [
    "df['Nivel_de_Satisfaccion'] = df['Nivel_de_Satisfaccion'].astype(int)"
   ]
  },
  {
   "cell_type": "code",
   "execution_count": 14,
   "id": "5f148498-3c59-478d-b5de-83508558365f",
   "metadata": {},
   "outputs": [],
   "source": [
    "df.to_csv('clientes_limpios.csv', index=False)"
   ]
  }
 ],
 "metadata": {
  "kernelspec": {
   "display_name": "Python 3 (ipykernel)",
   "language": "python",
   "name": "python3"
  },
  "language_info": {
   "codemirror_mode": {
    "name": "ipython",
    "version": 3
   },
   "file_extension": ".py",
   "mimetype": "text/x-python",
   "name": "python",
   "nbconvert_exporter": "python",
   "pygments_lexer": "ipython3",
   "version": "3.11.1"
  }
 },
 "nbformat": 4,
 "nbformat_minor": 5
}
